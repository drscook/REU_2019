{
  "nbformat": 4,
  "nbformat_minor": 0,
  "metadata": {
    "colab": {
      "name": "draw_me_methods.ipynb",
      "version": "0.3.2",
      "provenance": [],
      "include_colab_link": true
    },
    "kernelspec": {
      "name": "python3",
      "display_name": "Python 3"
    }
  },
  "cells": [
    {
      "cell_type": "markdown",
      "metadata": {
        "id": "view-in-github",
        "colab_type": "text"
      },
      "source": [
        "<a href=\"https://colab.research.google.com/github/drscook/REU_2019/blob/master/draw_me_methods.ipynb\" target=\"_parent\"><img src=\"https://colab.research.google.com/assets/colab-badge.svg\" alt=\"Open In Colab\"/></a>"
      ]
    },
    {
      "cell_type": "code",
      "metadata": {
        "id": "xrrML4if-TZ3",
        "colab_type": "code",
        "colab": {}
      },
      "source": [
        "    def draw_me(self):\n",
        "        try:\n",
        "            return self.boundary\n",
        "        except:\n",
        "            s = np.linspace(-self.length, self.length, 100)\n",
        "            self.boundary = (self.base + self.tangent * s[:,np.newaxis]).T\n",
        "            return self.boundary\n",
        "\n",
        "        \n",
        "        \n",
        "    def draw_me(self):\n",
        "        try:\n",
        "            return self.boundary\n",
        "        except:\n",
        "            s = np.linspace(-np.pi, np.pi, 100)\n",
        "            self.boundary = np.array([np.cos(s), np.sin(s)]) * self.radius\n",
        "            self.boundary += self.base[:,np.newaxis]\n",
        "            return self.boundary\n"
      ],
      "execution_count": 0,
      "outputs": []
    }
  ]
}