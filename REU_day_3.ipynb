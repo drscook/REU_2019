{
  "nbformat": 4,
  "nbformat_minor": 0,
  "metadata": {
    "colab": {
      "name": "REU day 3.ipynb",
      "version": "0.3.2",
      "provenance": [],
      "collapsed_sections": [],
      "toc_visible": true,
      "include_colab_link": true
    },
    "kernelspec": {
      "name": "python3",
      "display_name": "Python 3"
    }
  },
  "cells": [
    {
      "cell_type": "markdown",
      "metadata": {
        "id": "view-in-github",
        "colab_type": "text"
      },
      "source": [
        "<a href=\"https://colab.research.google.com/github/drscook/REU_2019/blob/master/REU_day_3.ipynb\" target=\"_parent\"><img src=\"https://colab.research.google.com/assets/colab-badge.svg\" alt=\"Open In Colab\"/></a>"
      ]
    },
    {
      "cell_type": "markdown",
      "metadata": {
        "id": "zt-U29eTr8fl",
        "colab_type": "text"
      },
      "source": [
        "# Math/Psych REU Day 3 - Intro to Python \n",
        "### Tarleton State University\n",
        "### Dr. Scott Cook\n",
        "\n",
        "This notebook can also be run locally (say on the Anaconda Distribution https://www.anaconda.com/download/).  The google colab option is easiest because it does not require installation and can be used from any computer.\n",
        "\n",
        "Resources\n",
        "- https://realpython.com/\n",
        "- Jake Vanderplas free books\n",
        "    - Whirlwind Tour of Python - https://github.com/jakevdp/WhirlwindTourOfPython.git\n",
        "    - Python Data Science Handbook - https://github.com/jakevdp/PythonDataScienceHandbook\n",
        "    - Can access directly from Colab: File -> open notebook -> github -> paste link\n",
        "- Google it"
      ]
    },
    {
      "cell_type": "markdown",
      "metadata": {
        "id": "HJkr0iT9sOC6",
        "colab_type": "text"
      },
      "source": [
        "Today, I plan to cover more about Numpy using chapter 2 of https://github.com/jakevdp/PythonDataScienceHandbook."
      ]
    },
    {
      "cell_type": "markdown",
      "metadata": {
        "id": "BQjhu4PNY5YS",
        "colab_type": "text"
      },
      "source": [
        "Homework - Here is some code to get us started writing a simple simulation of the Sinai Billiard.  This will set things up and draw a picture.  Your job is to write code that finds the next collision point, move the particle there, and resolves the collisions.  For now, use the specular collision law.\n",
        "\n",
        "To start, let's number the walls\n",
        "- right = 0\n",
        "- top = 1\n",
        "- left = 2\n",
        "- bottom = 3\n",
        "- scatterer = 4"
      ]
    },
    {
      "cell_type": "code",
      "metadata": {
        "id": "XLhAtEmVhLCY",
        "colab_type": "code",
        "outputId": "9c339505-aa75-4122-9ab5-a0e7d0ad3a39",
        "colab": {
          "base_uri": "https://localhost:8080/",
          "height": 595
        }
      },
      "source": [
        "import numpy as np\n",
        "import matplotlib.pyplot as plt\n",
        "\n",
        "steps = 10\n",
        "dim = 2\n",
        "num_walls = 5\n",
        "\n",
        "particle_radius = 1\n",
        "side = 10  # This is HALF the length of a side, which will go from -side to +side\n",
        "scatterer_radius = 2\n",
        "assert (scatterer_radius < side), \"scatterer won't fit in the box\"  # checks that the scatterer fits inside the box\n",
        "\n",
        "\n",
        "\n",
        "def initialize():\n",
        "    # particle's initial position will be against the scatterer at angle theta to the positive x-axis\n",
        "    theta = np.random.rand() * np.pi / 4  \n",
        "    pos = np.array([np.cos(theta), np.sin(theta)]) * (particle_radius + scatterer_radius)\n",
        "\n",
        "\n",
        "    # particle's initial velocity will be at angle phi to the normal vector at intial position\n",
        "    a = np.random.rand()  # between 0 and 1\n",
        "    a = 2*a - 1  # between -1 and +1\n",
        "    phi =  a * np.pi / 2  #between -pi/2 and +pi/2\n",
        "\n",
        "\n",
        "    # Now, we need to get a normal vector to the scatterer at intitial position.\n",
        "    n = pos.copy()\n",
        "\n",
        "    # But we want it to have length 1 (unit vector).\n",
        "    n = n / np.linalg.norm(n)\n",
        "\n",
        "    # Now, we want to rotate it by angle phi.  So, create the rotation matrix.\n",
        "    R = np.array([[np.cos(phi), -np.sin(phi)],\n",
        "                  [np.sin(phi), np.cos(phi)]\n",
        "                 ])\n",
        "\n",
        "    # Apply it to n\n",
        "    vel = R@n\n",
        "    \n",
        "    prior_wall = num_walls  # Explained below\n",
        "    return pos, vel, prior_wall\n",
        "\n",
        "\n",
        "\n",
        "def draw(pos, vel):\n",
        "    fig, ax = plt.subplots(figsize=(10,10))\n",
        "\n",
        "    # Trace box top-right, top-left, bottom-left, bottom-right, top-right\n",
        "    s = side\n",
        "    X = [s,-s,-s, s, s]\n",
        "    Y = [s, s,-s,-s, s]\n",
        "    box = ax.plot(X, Y)\n",
        "\n",
        "\n",
        "    # Trace scatterer\n",
        "    thetas = np.linspace(0, 2*np.pi)\n",
        "    U = np.array([np.cos(thetas), np.sin(thetas)])\n",
        "    pts = U * scatterer_radius\n",
        "    scatterer = ax.fill_between(pts[0], pts[1])\n",
        "\n",
        "\n",
        "    # Trace particle\n",
        "    thetas = np.linspace(0, 2*np.pi)\n",
        "    U = np.array([np.cos(thetas), np.sin(thetas)])\n",
        "    pts = (U.T * particle_radius + pos).T\n",
        "    particle = ax.plot(pts[0], pts[1])\n",
        "\n",
        "\n",
        "    # Draw arrow for velocity\n",
        "    ax.annotate(\"\", xy=pos, xytext=pos+vel, arrowprops=dict(arrowstyle=\"<-\"))\n",
        "\n",
        "    ax.set_aspect('equal')\n",
        "    plt.show()\n",
        "\n",
        "\n",
        "pos, vel, prior_wall = initialize()\n",
        "draw(pos, vel)"
      ],
      "execution_count": 5,
      "outputs": [
        {
          "output_type": "display_data",
          "data": {
            "image/png": "[encoded data removed]",
            "text/plain": [
              "<Figure size 720x720 with 1 Axes>"
            ]
          },
          "metadata": {
            "tags": []
          }
        }
      ]
    },
    {
      "cell_type": "markdown",
      "metadata": {
        "id": "qFpq_PlacUiS",
        "colab_type": "text"
      },
      "source": [
        "# Your job - Write the function \"next_state\"\n",
        "\n",
        "The function \"next_state\" will evolve the system forward to the next collision event.\n",
        "1. Find when the next collision occurs\n",
        "1. Move the particle\n",
        "1. Resolve the collision (determine the outgoing velocity)\n",
        "\n",
        "## 1. Find when the next collision occurs\n",
        "### 1a) Find time to collision with each wall\n",
        "For each side of the box, imagine the wall keeps going and forms a line.  Find the time when the particle would hit this line.  The answer is\n",
        "- positive if the particle is moving toward the line\n",
        "- negative if the particle is moving away from the line\n",
        "- zero if the particle is against the wall\n",
        "Remember that pos is the *center* of the particle, which will not get all the way to the wall.  Record the answer in the entry of the array T corresponding that wall (we numbered the walls earlier).\n",
        "\n",
        "It's trickier for the scatter.  Once it leaves a wall, the particle's position is given by $\\vec{x}(t) = \\vec{x}_0 + \\vec{v}t$ where $t=0$ is the moment it leaves the prior collision.  The particle hits the scatterer when $||\\vec{x}(t)||=R$, where R=particle radius + scatterer radius.  We square both sides to get $||\\vec{x}(t)||^2=R^2$.  Recall from Calc 3 that $||\\vec{x}(t)||^2 = \\vec{x}(t) \\cdot \\vec{x}(t)$, the dot product of x with itself.  Thus, we wish to find $t$ such that:\n",
        "$$\n",
        "R^2 = \\vec{x}(t) \\cdot \\vec{x}(t) = (\\vec{x}_0 + \\vec{v}t) \\cdot (\\vec{x}_0 + \\vec{v}t) = \\vec{x}_0 \\cdot \\vec{x}_0 + 2 \\vec{x}_0 \\cdot \\vec{v} t + \\vec{v} \\cdot \\vec{v} t^2\\\\R^2 = \\vec{x}_0 \\cdot \\vec{x}_0 + 2 \\vec{x}_0 \\cdot \\vec{v} t + \\vec{v} \\cdot \\vec{v} t^2\n",
        "$$\n",
        "\n",
        "It we define \n",
        "$$a = \\vec{v} \\cdot \\vec{v}\\\\b=2 \\vec{x}_0 \\cdot \\vec{v}\\\\c=\\vec{x}_0 \\cdot \\vec{x}_0-R^2$$\n",
        "then the equation reads\n",
        "$$0 = at^2 + bt + c$$\n",
        "\n",
        "In other word, the $t$ we seek solves the quadratic with $a,b,c$ defined above.  Note there can be 2 solutions - keep the smallest positive one (if there are any).  If there aren't any, use np.nan.  Record in T[4].\n",
        "### 1b) Find the smallest positive time\n",
        "- Can't have negative time.  Replace any negative times in T by np.nan (recall fancy indexing idx = T < 0; T[idx]=np.nan).  \n",
        "    - np.nan stands for \"not a number\".  It's a placeholder for missing data.  If you use np.min(A) on an array containing a nan, it will return nan.  However, if you use np.nanmin(A), it will ignore the nan's and return the min of the numeric entries.  Most numpy functions have a \"nan-proof\" version by simply sticking nan in front.  Exception: A.min() is equivalent to np.min(A).  But A.nanmin() won't work.  You have to use np.nanmin(A).\n",
        "- Can't hit the same wall again.  Replace the entry in slot \"prior_wall\" by np.nan.  This is important - the particle can get stuck otherwise.\n",
        "- Use np.nanargmin to find which *slot* holds the smallest time; call this next_wall.  Then our real $t$ is T[next_wall].\n",
        "\n",
        "## 2. Move the particle\n",
        "pos = pos + t*vel\n",
        "\n",
        "prior_wall = next_wall.\n",
        "\n",
        "## 3. Resolve the collision\n",
        "If the particle hits a side, then the outgoing velocity is just in incoming velocity with one sign flipped.  Write code to implement this.\n",
        "\n",
        "If is hits the scatterer, we must work harder.  Hopefully, Dr. Cox will justify the following expression for specular collisions in lecture.  Let $\\hat{n}$ be the outward point unit (length 1) normal vecter to the scatterer at the collision point.  Then\n",
        "$$\\vec{v}_{out} = \\vec{v}_{in} - 2 (\\hat{n} \\cdot \\vec{v}_{in})$$\n",
        "\n",
        "The circle is nice because the vector from the center of the scatterer to the center of the particle is automatically an outward point normal vector.  So $\\vec{n} = pos$.  But you need to normalize it to length 1 before using it in the expression above."
      ]
    },
    {
      "cell_type": "markdown",
      "metadata": {
        "id": "BXgseBVTthxo",
        "colab_type": "text"
      },
      "source": [
        "#### Warning the code below has not been tested.  It can't run until you write next_state.  So, there could be little errors with my code.  Let me know if this happens."
      ]
    },
    {
      "cell_type": "code",
      "metadata": {
        "id": "gM5GuTs_YXTB",
        "colab_type": "code",
        "colab": {}
      },
      "source": [
        "def next_state(pos, vel, prior_wall):\n",
        "    T = np.full(shape=num_walls, fill_value=np.nan)  # initializes an array to hold collision times, prefilled with the \"not a number\" placeholder np.nan\n",
        "    # Find collision times with each wall\n",
        "    \n",
        "    # Move particle\n",
        "    \n",
        "    # Resolve collision\n",
        "    \n",
        "    return pos, vel prior_wall\n",
        "\n",
        "\n",
        "# Initialize arrays where the states will be recorded\n",
        "pos_history = np.full(shape=(steps, dim), fill_value=np.nan) # steps x dim filled with the \"not a number\" placeholder np.nan\n",
        "vel_history = np.full(shape=(steps, dim), fill_value=np.nan)\n",
        "prior_wall_history = np.full(shape=steps, fill_value=np.nan)\n",
        "\n",
        "pos_history[0] = pos.copy()\n",
        "vel_history[0] = vel.copy()\n",
        "prior_wall_history = prior_wall\n",
        "\n",
        "for i in range(steps):\n",
        "    pos, vel prior_wall = next_state(pos, vel prior_wall)  # evolves the system forward one step\n",
        "    \n",
        "    ## record current state for later use\n",
        "    pos_history[i+1] = pos.copy()\n",
        "    vel_history[i+1] = vel.copy()\n",
        "    prior_wall_history[i+1] = prior_wall"
      ],
      "execution_count": 0,
      "outputs": []
    },
    {
      "cell_type": "markdown",
      "metadata": {
        "id": "EK4ucmw8xHsT",
        "colab_type": "text"
      },
      "source": [
        "Let's improve the old \"draw\" so that we can see the trails where the particle has been."
      ]
    },
    {
      "cell_type": "code",
      "metadata": {
        "id": "osRjyjJWxGdy",
        "colab_type": "code",
        "colab": {}
      },
      "source": [
        "def draw(pos_hist, vel_hist):\n",
        "    if pos_hist.ndim > 1:\n",
        "        pos = pos_hist[-1]  # the last state position\n",
        "        vel = vel_hist[-1]  # the last state velocity\n",
        "    else:  # if only given the last state, we can't draw the trails\n",
        "        pos = pos_hist\n",
        "        vel = vel_hist\n",
        "    \n",
        "    fig, ax = plt.subplots(figsize=(10,10))\n",
        "\n",
        "    # Trace box top-right, top-left, bottom-left, bottom-right, top-right\n",
        "    s = side\n",
        "    X = [s,-s,-s, s, s]\n",
        "    Y = [s, s,-s,-s, s]\n",
        "    box = ax.plot(X, Y)\n",
        "\n",
        "\n",
        "    # Trace scatterer\n",
        "    thetas = np.linspace(0, 2*np.pi)\n",
        "    U = np.array([np.cos(thetas), np.sin(thetas)])\n",
        "    pts = U * scatterer_radius\n",
        "    scatterer = ax.fill_between(pts[0], pts[1])\n",
        "\n",
        "\n",
        "    # Trace particle\n",
        "    thetas = np.linspace(0, 2*np.pi)\n",
        "    U = np.array([np.cos(thetas), np.sin(thetas)])\n",
        "    pts = (U.T * particle_radius + pos).T\n",
        "    particle = ax.plot(pts[0], pts[1])\n",
        "\n",
        "\n",
        "    # Draw arrow for velocity\n",
        "    ax.annotate(\"\", xy=pos, xytext=pos+vel, arrowprops=dict(arrowstyle=\"<-\"))\n",
        "    \n",
        "    \n",
        "    # Draw trails\n",
        "    if pos_hist.ndim > 1:\n",
        "        ax.plot(pos_hist[:,0], pos_hist[:,1])\n",
        "\n",
        "    ax.set_aspect('equal')\n",
        "    plt.show()\n",
        "\n",
        "\n",
        "draw(pos_hist, vel_hist)"
      ],
      "execution_count": 0,
      "outputs": []
    }
  ]
}