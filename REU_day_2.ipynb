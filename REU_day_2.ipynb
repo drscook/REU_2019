{
  "nbformat": 4,
  "nbformat_minor": 0,
  "metadata": {
    "colab": {
      "name": "REU day 2.ipynb",
      "version": "0.3.2",
      "provenance": [],
      "collapsed_sections": [],
      "include_colab_link": true
    },
    "kernelspec": {
      "name": "python3",
      "display_name": "Python 3"
    }
  },
  "cells": [
    {
      "cell_type": "markdown",
      "metadata": {
        "id": "view-in-github",
        "colab_type": "text"
      },
      "source": [
        "<a href=\"https://colab.research.google.com/github/drscook/REU_2019/blob/master/REU_day_2.ipynb\" target=\"_parent\"><img src=\"https://colab.research.google.com/assets/colab-badge.svg\" alt=\"Open In Colab\"/></a>"
      ]
    },
    {
      "cell_type": "markdown",
      "metadata": {
        "id": "zt-U29eTr8fl",
        "colab_type": "text"
      },
      "source": [
        "# Math/Psych REU Day 2 - Intro to Python \n",
        "### Tarleton State University\n",
        "### Dr. Scott Cook\n",
        "\n",
        "This notebook can also be run locally (say on the Anaconda Distribution https://www.anaconda.com/download/).  The google colab option is easiest because it does not require installation and can be used from any computer.\n",
        "\n",
        "Resources\n",
        "- https://realpython.com/\n",
        "- Jake Vanderplas free books\n",
        "    - Whirlwind Tour of Python - https://github.com/jakevdp/WhirlwindTourOfPython.git\n",
        "    - Python Data Science Handbook - https://github.com/jakevdp/PythonDataScienceHandbook\n",
        "    - Can access directly from Colab: File -> open notebook -> github -> paste link\n",
        "- Google it"
      ]
    },
    {
      "cell_type": "markdown",
      "metadata": {
        "id": "HJkr0iT9sOC6",
        "colab_type": "text"
      },
      "source": [
        "Today, we finished a few items about base Python from sections 6, 7, and 9 of https://github.com/jakevdp/WhirlwindTourOfPython.git.  Then we started talking about Numpy using chapter 2 of https://github.com/jakevdp/PythonDataScienceHandbook."
      ]
    },
    {
      "cell_type": "markdown",
      "metadata": {
        "id": "PCv7u4pcuXYv",
        "colab_type": "text"
      },
      "source": [
        "Homework is problems #1 & 2 of http://www.math.pitt.edu/~sussmanm/3040Summer14/exercisesII.pdf.\n",
        "\n",
        "The homework has 2 problems, each with subproblems.  I'd like you to use the \"sections\" in Colab to organize them.  For each, make a new text cell and use # to subindent."
      ]
    },
    {
      "cell_type": "markdown",
      "metadata": {
        "id": "5ZDKdYm3tMnY",
        "colab_type": "text"
      },
      "source": [
        "# Homework problem #1"
      ]
    },
    {
      "cell_type": "markdown",
      "metadata": {
        "id": "0LN_FhJbtZ_W",
        "colab_type": "text"
      },
      "source": [
        "## 1.1"
      ]
    },
    {
      "cell_type": "markdown",
      "metadata": {
        "id": "Or4k4MaYVr31",
        "colab_type": "text"
      },
      "source": [
        "### New Section"
      ]
    },
    {
      "cell_type": "code",
      "metadata": {
        "id": "YFASf1c0tf_w",
        "colab_type": "code",
        "colab": {}
      },
      "source": [
        "your code for problem 1.1"
      ],
      "execution_count": 0,
      "outputs": []
    },
    {
      "cell_type": "markdown",
      "metadata": {
        "id": "JLTCzeT_tjFx",
        "colab_type": "text"
      },
      "source": [
        "## 1.2"
      ]
    },
    {
      "cell_type": "code",
      "metadata": {
        "id": "XS9Wx6vXuUW1",
        "colab_type": "code",
        "colab": {}
      },
      "source": [
        "your code for problem 1.2"
      ],
      "execution_count": 0,
      "outputs": []
    },
    {
      "cell_type": "markdown",
      "metadata": {
        "id": "PjoTa_wCtURw",
        "colab_type": "text"
      },
      "source": [
        "# Homework problem #2"
      ]
    }
  ]
}