{
  "nbformat": 4,
  "nbformat_minor": 0,
  "metadata": {
    "colab": {
      "name": "REU day 1.ipynb",
      "version": "0.3.2",
      "provenance": [],
      "collapsed_sections": [],
      "include_colab_link": true
    },
    "kernelspec": {
      "display_name": "Python 3",
      "language": "python",
      "name": "python3"
    }
  },
  "cells": [
    {
      "cell_type": "markdown",
      "metadata": {
        "id": "view-in-github",
        "colab_type": "text"
      },
      "source": [
        "<a href=\"https://colab.research.google.com/github/drscook/REU_2019/blob/master/REU_day_1.ipynb\" target=\"_parent\"><img src=\"https://colab.research.google.com/assets/colab-badge.svg\" alt=\"Open In Colab\"/></a>"
      ]
    },
    {
      "cell_type": "markdown",
      "metadata": {
        "id": "fnS5HRz-4NS9",
        "colab_type": "text"
      },
      "source": [
        "# Math/Psych REU Day 1 - Intro to Python \n",
        "### Tarleton State University\n",
        "### Dr. Scott Cook\n",
        "\n",
        "This notebook can also be run locally (say on the Anaconda Distribution https://www.anaconda.com/download/).  The google colab option is easiest because it does not require installation and can be used from any computer."
      ]
    },
    {
      "cell_type": "markdown",
      "metadata": {
        "id": "HB-5tyx1WeZ1",
        "colab_type": "text"
      },
      "source": [
        "# Day 2 link\n",
        "https://colab.research.google.com/drive/1X4RWStJLZqp965gsc-ZGCEfreZvhTv5u"
      ]
    },
    {
      "cell_type": "markdown",
      "metadata": {
        "id": "0O7rAiaeU5Q-",
        "colab_type": "text"
      },
      "source": [
        "Resources\n",
        "- https://realpython.com/\n",
        "- Jake Vanderplas free books\n",
        "- Whirlwind Tour of Python - https://github.com/jakevdp/WhirlwindTourOfPython\n",
        "- Python Data Science Handbook - https://github.com/jakevdp/PythonDataScienceHandbook\n",
        "\n",
        "\n",
        "- Google it"
      ]
    },
    {
      "cell_type": "markdown",
      "metadata": {
        "id": "jIf3q0XGDU2i",
        "colab_type": "text"
      },
      "source": [
        ""
      ]
    },
    {
      "cell_type": "code",
      "metadata": {
        "id": "0h_FJg49UU6a",
        "colab_type": "code",
        "outputId": "6a57226f-535f-4600-cee8-dcbdf8175532",
        "colab": {
          "base_uri": "https://localhost:8080/",
          "height": 104
        }
      },
      "source": [
        "! git clone https://github.com/jakevdp/PythonDataScienceHandbook.git"
      ],
      "execution_count": 0,
      "outputs": [
        {
          "output_type": "stream",
          "text": [
            "Cloning into 'PythonDataScienceHandbook'...\n",
            "remote: Enumerating objects: 1512, done.\u001b[K\n",
            "remote: Total 1512 (delta 0), reused 0 (delta 0), pack-reused 1512\u001b[K\n",
            "Receiving objects: 100% (1512/1512), 33.13 MiB | 23.52 MiB/s, done.\n",
            "Resolving deltas: 100% (1001/1001), done.\n"
          ],
          "name": "stdout"
        }
      ]
    },
    {
      "cell_type": "markdown",
      "metadata": {
        "id": "3tPNZj9a4NS-",
        "colab_type": "text"
      },
      "source": [
        "# Question 1 (In class)\n",
        "How many integers $0 \\leq x < 10000$ have either $\\sin(x)\\geq 0.5$ or $\\cos(x)\\geq 0.5$ or both?\n",
        "\n",
        "We will learn a little Python and use it to answer this question."
      ]
    },
    {
      "cell_type": "markdown",
      "metadata": {
        "id": "9x__wS5O4NS_",
        "colab_type": "text"
      },
      "source": [
        "## Python modules\n",
        "Python has a \"core\" and a TON of extensions called modules.  We need to import the math module to get cos and sin."
      ]
    },
    {
      "cell_type": "code",
      "metadata": {
        "id": "tU30RMW44NTA",
        "colab_type": "code",
        "outputId": "098068a6-8d28-4d3d-bea7-30739886e879",
        "colab": {
          "base_uri": "https://localhost:8080/",
          "height": 34
        }
      },
      "source": [
        "import math\n",
        "print(math.cos(1))"
      ],
      "execution_count": 0,
      "outputs": [
        {
          "output_type": "stream",
          "text": [
            "0.5403023058681398\n"
          ],
          "name": "stdout"
        }
      ]
    },
    {
      "cell_type": "markdown",
      "metadata": {
        "id": "iO7BOPby4NTH",
        "colab_type": "text"
      },
      "source": [
        "## Lists\n",
        "A *list* is a data structure in Python.  It can hold almost anything: numbers, strings, objects, functions, other lists, etc.  A list can hold many different types of things."
      ]
    },
    {
      "cell_type": "code",
      "metadata": {
        "id": "DDveGpCj4NTI",
        "colab_type": "code",
        "outputId": "a30ef3e4-a1cb-414f-ded6-988e0dc218f3",
        "colab": {
          "base_uri": "https://localhost:8080/",
          "height": 153
        }
      },
      "source": [
        "A = [1, 6, 9]\n",
        "print(A)\n",
        "print()\n",
        "\n",
        "B = [1, 7.3, -1/7]\n",
        "print(B)\n",
        "print()\n",
        "\n",
        "C = [17, 'hello', 'world', math.cos]\n",
        "print(C)    # the last entry is the function cos.  Yes, that is an object and can be placed into a list\n",
        "print()\n",
        "\n",
        "D = ['math is great', True, C]\n",
        "print(D)    # the last entry is the list defined above\n",
        "print(\"------------------------------------------------------------------------------------------------------\")"
      ],
      "execution_count": 0,
      "outputs": [
        {
          "output_type": "stream",
          "text": [
            "[1, 6, 9]\n",
            "\n",
            "[1, 7.3, -0.14285714285714285]\n",
            "\n",
            "[17, 'hello', 'world', <built-in function cos>]\n",
            "\n",
            "['math is great', True, [17, 'hello', 'world', <built-in function cos>]]\n",
            "------------------------------------------------------------------------------------------------------\n"
          ],
          "name": "stdout"
        }
      ]
    },
    {
      "cell_type": "markdown",
      "metadata": {
        "id": "BSw6DiSr4NTM",
        "colab_type": "text"
      },
      "source": [
        "Python indexes lists starting from 0, not 1.\n",
        "- The first entry of a list is entry 0\n",
        "- The second entry of a list is entry 1\n",
        "- etc...\n",
        "\n",
        "Python uses negative indexing to count backward from the end\n",
        "- The last entry of a list is entry -1\n",
        "- The second-to-last entry of a list is entry -2\n",
        "- etc ..."
      ]
    },
    {
      "cell_type": "code",
      "metadata": {
        "id": "apqdm43X4NTN",
        "colab_type": "code",
        "outputId": "55b6f42b-0b66-41e1-c610-61f86d134924",
        "colab": {
          "base_uri": "https://localhost:8080/",
          "height": 289
        }
      },
      "source": [
        "print(D[0])    # the first entry of D\n",
        "print()\n",
        "\n",
        "print(D[1])    # the second entry of D\n",
        "print()\n",
        "\n",
        "print(D[2])    # the third entry of D\n",
        "print(\"------------------------------------------------------------------------------------------------------\")\n",
        "\n",
        "print(D[-1])    # the last entry of D (which is also the third entry)\n",
        "print()\n",
        "\n",
        "print(D[-2])    # the second-to-last entry of D (which is also the second entry)\n",
        "print()\n",
        "\n",
        "print(D[-3])    # the third-to-last entry of D (which is also the first entry)\n",
        "print(\"------------------------------------------------------------------------------------------------------\")\n",
        "\n",
        "print(D[-1][0])    # the first entry OF the last entry of D\n",
        "print()\n",
        "\n",
        "print(D[-1][-2])    # the second-to-last entry OF the last entry of D\n",
        "print()"
      ],
      "execution_count": 0,
      "outputs": [
        {
          "output_type": "stream",
          "text": [
            "math is great\n",
            "\n",
            "True\n",
            "\n",
            "[17, 'hello', 'world', <built-in function cos>]\n",
            "------------------------------------------------------------------------------------------------------\n",
            "[17, 'hello', 'world', <built-in function cos>]\n",
            "\n",
            "True\n",
            "\n",
            "math is great\n",
            "------------------------------------------------------------------------------------------------------\n",
            "17\n",
            "\n",
            "world\n",
            "\n"
          ],
          "name": "stdout"
        }
      ]
    },
    {
      "cell_type": "markdown",
      "metadata": {
        "id": "zkoM0dvs4NTS",
        "colab_type": "text"
      },
      "source": [
        "### Ranges\n",
        "\n",
        "list(range(start, stop, step)) gives the integers from start to (stop-1) counting by step.\n",
        "\n",
        "Note: range DOES include start, but does NOT include stop."
      ]
    },
    {
      "cell_type": "code",
      "metadata": {
        "id": "OE3E1LSr4NTT",
        "colab_type": "code",
        "outputId": "9b1ae04b-9c6e-400a-927e-4e1921d4c05e",
        "colab": {
          "base_uri": "https://localhost:8080/",
          "height": 153
        }
      },
      "source": [
        "Q = list(range(0, 10))    # assumes step=1\n",
        "print(Q)\n",
        "print()\n",
        "\n",
        "R = list(range(4, 17))    # assumes step=1\n",
        "print(R)\n",
        "print()\n",
        "\n",
        "S = list(range(5, 20, 3))\n",
        "print(S)\n",
        "print()\n",
        "\n",
        "T = list(range(13))    # assumes start=0 AND step=1 \n",
        "print(T)\n",
        "print()"
      ],
      "execution_count": 0,
      "outputs": [
        {
          "output_type": "stream",
          "text": [
            "[0, 1, 2, 3, 4, 5, 6, 7, 8, 9]\n",
            "\n",
            "[4, 5, 6, 7, 8, 9, 10, 11, 12, 13, 14, 15, 16]\n",
            "\n",
            "[5, 8, 11, 14, 17]\n",
            "\n",
            "[0, 1, 2, 3, 4, 5, 6, 7, 8, 9, 10, 11, 12]\n",
            "\n"
          ],
          "name": "stdout"
        }
      ]
    },
    {
      "cell_type": "markdown",
      "metadata": {
        "id": "H6PJ1LEX4NTW",
        "colab_type": "text"
      },
      "source": [
        "## Python printing\n",
        "\n",
        "f-strings are new in Python (version 3.6).  They're  incredibly handy.  To print the value of a variable, simply put it inside {}.  We can specify formatting, such as the number of decimals to print."
      ]
    },
    {
      "cell_type": "code",
      "metadata": {
        "id": "ydeEO09G4NTX",
        "colab_type": "code",
        "outputId": "be9b9702-f834-48d5-abbb-0ead96f94bcc",
        "colab": {
          "base_uri": "https://localhost:8080/",
          "height": 51
        }
      },
      "source": [
        "x = 12\n",
        "L = [2,3,4,6,12]\n",
        "print(f\"{x} is divisible by every element of {L}\")\n",
        "\n",
        "z = 17 / 7\n",
        "print(f\"{z} looks nicer if we round {z:.3f}\")"
      ],
      "execution_count": 0,
      "outputs": [
        {
          "output_type": "stream",
          "text": [
            "12 is divisible by every element of [2, 3, 4, 6, 12]\n",
            "2.4285714285714284 looks nicer if we round 2.429\n"
          ],
          "name": "stdout"
        }
      ]
    },
    {
      "cell_type": "markdown",
      "metadata": {
        "id": "po_2vCVU4NTb",
        "colab_type": "text"
      },
      "source": [
        "## Equal signs\n",
        "- a = b defines the variable a equal to b\n",
        "- a == b tests whether a is equal to b"
      ]
    },
    {
      "cell_type": "code",
      "metadata": {
        "id": "9DS5aqL3frD3",
        "colab_type": "code",
        "outputId": "11ae9f91-1b3b-4060-d186-6a87ff353ae3",
        "colab": {
          "base_uri": "https://localhost:8080/",
          "height": 51
        }
      },
      "source": [
        "x = 3\n",
        "y = 2\n",
        "print(y == x)    # asks if y and x are equal.  Answer is False\n",
        "y = x    # sets y equal to x\n",
        "print(y == x)    # asks if y and x are equal.  Answer is True"
      ],
      "execution_count": 0,
      "outputs": [
        {
          "output_type": "stream",
          "text": [
            "False\n",
            "True\n"
          ],
          "name": "stdout"
        }
      ]
    },
    {
      "cell_type": "markdown",
      "metadata": {
        "id": "HMpxe_gT4NTd",
        "colab_type": "text"
      },
      "source": [
        "## Loops\n",
        "We can loop over lists.  The simplest way is:"
      ]
    },
    {
      "cell_type": "code",
      "metadata": {
        "id": "hjKgq7B14NTe",
        "colab_type": "code",
        "outputId": "1ce10a54-862d-4031-e67e-9b8725fe025a",
        "colab": {
          "base_uri": "https://localhost:8080/",
          "height": 68
        }
      },
      "source": [
        "for d in D:\n",
        "    print(d)"
      ],
      "execution_count": 0,
      "outputs": [
        {
          "output_type": "stream",
          "text": [
            "math is great\n",
            "True\n",
            "[17, 'hello', 'world', <built-in function cos>]\n"
          ],
          "name": "stdout"
        }
      ]
    },
    {
      "cell_type": "markdown",
      "metadata": {
        "id": "tem0xRLa4NTk",
        "colab_type": "text"
      },
      "source": [
        "Suppose we need to know where something is.  For example, we want to find WHERE True is."
      ]
    },
    {
      "cell_type": "code",
      "metadata": {
        "id": "aMnSI7IK4NTl",
        "colab_type": "code",
        "outputId": "540b4f1b-c954-41a8-a96d-d01ff0a16b5f",
        "colab": {
          "base_uri": "https://localhost:8080/",
          "height": 34
        }
      },
      "source": [
        "for i, d in enumerate(D):\n",
        "    if d == True:\n",
        "        print(f\"entry {i} is {d}\")"
      ],
      "execution_count": 0,
      "outputs": [
        {
          "output_type": "stream",
          "text": [
            "entry 1 is True\n"
          ],
          "name": "stdout"
        }
      ]
    },
    {
      "cell_type": "markdown",
      "metadata": {
        "id": "cWupu3xR4NTp",
        "colab_type": "text"
      },
      "source": [
        "Here is another way that looks more like C.  We strongly prefer the option above."
      ]
    },
    {
      "cell_type": "code",
      "metadata": {
        "id": "S4wLWWG-4NTq",
        "colab_type": "code",
        "outputId": "ed6699cd-ef48-4b1b-e823-931d6b53d96b",
        "colab": {
          "base_uri": "https://localhost:8080/",
          "height": 34
        }
      },
      "source": [
        "for i in range(0, len(D)):\n",
        "    if D[i] == True:\n",
        "        print(f\"entry {i} is {D[i]}\")"
      ],
      "execution_count": 0,
      "outputs": [
        {
          "output_type": "stream",
          "text": [
            "entry 1 is True\n"
          ],
          "name": "stdout"
        }
      ]
    },
    {
      "cell_type": "markdown",
      "metadata": {
        "id": "yvYI6NZ44NTv",
        "colab_type": "text"
      },
      "source": [
        "### Efficiency\n",
        "Note:  When we loop using range, we do not need list().\n",
        "- range(10) is a *generator*.  It will produce the integers 0,1,2,...,9 one at a time as needed.\n",
        "- list(range(10)) is a list containing 0,1,2,...,9.  The list() asks range(10) to produce all of 0,1,2,...,9 right now.\n",
        "\n",
        "Why would you want this?\n",
        "\n",
        "Your computer has limited RAM.  Pick a REALLY big number like 10^99.  We loop over the integers 0 to 10^99 printing the ones with $\\cos(x)\\geq 0.5$."
      ]
    },
    {
      "cell_type": "code",
      "metadata": {
        "id": "okyDJWZw4NTx",
        "colab_type": "code",
        "outputId": "ef79f117-f443-4b3e-9702-0dcfe82085d9",
        "colab": {
          "base_uri": "https://localhost:8080/",
          "height": 214
        }
      },
      "source": [
        "L = list(range(10**99))\n",
        "for x in L:\n",
        "    if math.cos(x) >= 0.5:\n",
        "        print(x)\n",
        "        \n",
        "    if x > 10000:\n",
        "        print(\"I could keep going, but I'll break now to save you some time.\")\n",
        "        break"
      ],
      "execution_count": 0,
      "outputs": [
        {
          "output_type": "error",
          "ename": "OverflowError",
          "evalue": "ignored",
          "traceback": [
            "\u001b[0;31m---------------------------------------------------------------------------\u001b[0m",
            "\u001b[0;31mOverflowError\u001b[0m                             Traceback (most recent call last)",
            "\u001b[0;32m<ipython-input-13-84cee65fdcea>\u001b[0m in \u001b[0;36m<module>\u001b[0;34m()\u001b[0m\n\u001b[0;32m----> 1\u001b[0;31m \u001b[0mL\u001b[0m \u001b[0;34m=\u001b[0m \u001b[0mlist\u001b[0m\u001b[0;34m(\u001b[0m\u001b[0mrange\u001b[0m\u001b[0;34m(\u001b[0m\u001b[0;36m10\u001b[0m\u001b[0;34m**\u001b[0m\u001b[0;36m99\u001b[0m\u001b[0;34m)\u001b[0m\u001b[0;34m)\u001b[0m\u001b[0;34m\u001b[0m\u001b[0m\n\u001b[0m\u001b[1;32m      2\u001b[0m \u001b[0;32mfor\u001b[0m \u001b[0mx\u001b[0m \u001b[0;32min\u001b[0m \u001b[0mL\u001b[0m\u001b[0;34m:\u001b[0m\u001b[0;34m\u001b[0m\u001b[0m\n\u001b[1;32m      3\u001b[0m     \u001b[0;32mif\u001b[0m \u001b[0mmath\u001b[0m\u001b[0;34m.\u001b[0m\u001b[0mcos\u001b[0m\u001b[0;34m(\u001b[0m\u001b[0mx\u001b[0m\u001b[0;34m)\u001b[0m \u001b[0;34m>=\u001b[0m \u001b[0;36m0.5\u001b[0m\u001b[0;34m:\u001b[0m\u001b[0;34m\u001b[0m\u001b[0m\n\u001b[1;32m      4\u001b[0m         \u001b[0mprint\u001b[0m\u001b[0;34m(\u001b[0m\u001b[0mx\u001b[0m\u001b[0;34m)\u001b[0m\u001b[0;34m\u001b[0m\u001b[0m\n",
            "\u001b[0;31mOverflowError\u001b[0m: Python int too large to convert to C ssize_t"
          ]
        }
      ]
    },
    {
      "cell_type": "markdown",
      "metadata": {
        "id": "Du9-wAyu4NT2",
        "colab_type": "text"
      },
      "source": [
        "You get an error because list(range(10**99)) is too big to fit in RAM.\n",
        "\n",
        "If we delete list() from line 1, the error goes away and the code runs.  This is because range(10**99) produces one number at a time, rather than trying to put them all into a big list.\n",
        "\n",
        "However, this will take a long time to complete.  (Use the interrupt kernel button in the tool bar to kill the process.)"
      ]
    },
    {
      "cell_type": "code",
      "metadata": {
        "id": "2Nl1e_Zo4NT4",
        "colab_type": "code",
        "colab": {}
      },
      "source": [
        "L = range(10**99)\n",
        "for x in L:\n",
        "    if math.cos(x) >= 0.5:\n",
        "        print(x)\n",
        "        \n",
        "    if x > 10000:\n",
        "        print(\"I could keep going, but I'll break now to save you some time.\")\n",
        "        break"
      ],
      "execution_count": 0,
      "outputs": []
    },
    {
      "cell_type": "markdown",
      "metadata": {
        "id": "5zz8vMDk4NUB",
        "colab_type": "text"
      },
      "source": [
        "## Indentation\n",
        "Python uses indentation level to determine where loops, functions, if-then blocks, etc start and end.  This often upsets people with experience coding in languages like C where we use { ... } as delimiters.  I agree that it seems strange ... but it work just fine once you adjust."
      ]
    },
    {
      "cell_type": "code",
      "metadata": {
        "id": "3QDuINFW4NUC",
        "colab_type": "code",
        "outputId": "65856a15-25ab-4238-8dfd-7ec21dc7f199",
        "colab": {
          "base_uri": "https://localhost:8080/",
          "height": 306
        }
      },
      "source": [
        "for i in range(5):\n",
        "    print(i)\n",
        "    print(\"hello world\")   # indented, so part of loop.  Prints each time.\n",
        "    \n",
        "print(\"------------------------------------------------------------------------------------------------------------\")\n",
        "    \n",
        "for i in range(5):\n",
        "    print(i)\n",
        "print(\"hello world\")    # not indented, so not part of loop.  Prints once."
      ],
      "execution_count": 0,
      "outputs": [
        {
          "output_type": "stream",
          "text": [
            "0\n",
            "hello world\n",
            "1\n",
            "hello world\n",
            "2\n",
            "hello world\n",
            "3\n",
            "hello world\n",
            "4\n",
            "hello world\n",
            "------------------------------------------------------------------------------------------------------------\n",
            "0\n",
            "1\n",
            "2\n",
            "3\n",
            "4\n",
            "hello world\n"
          ],
          "name": "stdout"
        }
      ]
    },
    {
      "cell_type": "markdown",
      "metadata": {
        "id": "7QNVwGusU9JO",
        "colab_type": "text"
      },
      "source": [
        "note: shift tab to unident"
      ]
    },
    {
      "cell_type": "markdown",
      "metadata": {
        "id": "ao_sPsEM4NUH",
        "colab_type": "text"
      },
      "source": [
        "## Solution to Question 1\n",
        "Now, let's solve the original problem.  How many integers $0 \\leq x < 10000$ have either $\\sin(x)\\geq 0.5$ or $\\cos(x)\\geq 0.5$ or both?"
      ]
    },
    {
      "cell_type": "code",
      "metadata": {
        "id": "6zTpuVFE4NUI",
        "colab_type": "code",
        "outputId": "f5a8516e-68cb-4642-ff68-fd33e7eedbbd",
        "colab": {
          "base_uri": "https://localhost:8080/",
          "height": 34
        }
      },
      "source": [
        "import math\n",
        "\n",
        "N = 10000\n",
        "functions = [math.sin, math.cos]    # a list containing the function we will apply\n",
        "\n",
        "count = 0    # running count of which numbers work\n",
        "for x in range(N):\n",
        "    OK = False    # flips to True as soon as we get f(x)>=0.5 for any f in functions\n",
        "    for f in functions:    # loops over all functions in list\n",
        "        if f(x) >= 0.5:\n",
        "            OK = True\n",
        "\n",
        "    if OK == True:\n",
        "        count += 1    # counts this x\n",
        "\n",
        "print(f\"There are {count} integers between 0 and {N} with sin(x)>=0.5 or cos(x)>=0.5\")"
      ],
      "execution_count": 0,
      "outputs": [
        {
          "output_type": "stream",
          "text": [
            "There are 5832 integers between 0 and 10000 with sin(x)>=0.5 or cos(x)>=0.5\n"
          ],
          "name": "stdout"
        }
      ]
    },
    {
      "cell_type": "markdown",
      "metadata": {
        "id": "n4n_vts74NUM",
        "colab_type": "text"
      },
      "source": [
        "Again, observe the use of indentation level to delimit the nested for loops and if blocks.\n",
        "\n",
        "This is NOT the most efficient code.  I encourage you to try to improve it to run faster.\n",
        "\n",
        "There are many ways to time code.  My favorite is the %timeit magic command.  It runs the code several times to get an average.  To use it, we need to wrap our test into a function.  Functions allow the same code to be run repeatedly on different inputs.  "
      ]
    },
    {
      "cell_type": "code",
      "metadata": {
        "id": "FLfTnZj44NUM",
        "colab_type": "code",
        "outputId": "03005150-7329-4a1a-a348-4f889641f706",
        "colab": {
          "base_uri": "https://localhost:8080/",
          "height": 52
        }
      },
      "source": [
        "import math\n",
        "\n",
        "N = 10000\n",
        "functions = [math.sin, math.cos]    # a list containing the function we will apply\n",
        "\n",
        "def run_test(N, functions):\n",
        "    count = 0    # running count of which numbers work\n",
        "    for x in range(N):    # N+1 so that N is included; range(N) would stop at N-1\n",
        "        OK = False    # flips to True as soon as we get f(x)>=0.5 for any f in functions\n",
        "        for f in functions:    # loops over all functions in list\n",
        "            if f(x) >= 0.5:\n",
        "                OK = True\n",
        "\n",
        "        if OK == True:\n",
        "            count += 1    # counts this x\n",
        "    return count\n",
        "\n",
        "count = run_test(N, functions)\n",
        "print(f\"There are {count} integers between 0 and {N} with sin(x)>=0.5 or cos(x)>=0.5\")\n",
        "%timeit run_test(N, functions)    # does run_test several times and computes the average time"
      ],
      "execution_count": 0,
      "outputs": [
        {
          "output_type": "stream",
          "text": [
            "There are 5832 integers between 0 and 10000 with sin(x)>=0.5 or cos(x)>=0.5\n",
            "100 loops, best of 3: 3.63 ms per loop\n"
          ],
          "name": "stdout"
        }
      ]
    },
    {
      "cell_type": "markdown",
      "metadata": {
        "id": "a1m6Ku3o4NUR",
        "colab_type": "text"
      },
      "source": [
        "We can speed it up by adding \"break\" below OK = True.  If we see $\\sin(x) \\geq 0.5$ the first time through the inner loop, we don't need to check if $\\cos(x) \\geq 0.5$."
      ]
    },
    {
      "cell_type": "code",
      "metadata": {
        "id": "OmeDKecU4NUR",
        "colab_type": "code",
        "outputId": "7b57bc66-cfa2-4552-8813-6995d7d2319f",
        "colab": {
          "base_uri": "https://localhost:8080/",
          "height": 51
        }
      },
      "source": [
        "import math\n",
        "\n",
        "N = 10000\n",
        "functions = [math.sin, math.cos]    # a list containing the function we will apply\n",
        "\n",
        "def run_test(N, functions):\n",
        "    count = 0    # running count of which numbers work\n",
        "    for x in range(N):    # N+1 so that N is included; range(N) would stop at N-1\n",
        "        OK = False    # flips to True as soon as we get f(x)>=0.5 for any f in functions\n",
        "        for f in functions:    # loops over all functions in list\n",
        "            if f(x) >= 0.5:\n",
        "                OK = True\n",
        "                break\n",
        "\n",
        "        if OK == True:\n",
        "            count += 1    # counts this x\n",
        "    return count\n",
        "\n",
        "count = run_test(N, functions)\n",
        "print(f\"There are {count} integers between 0 and {N} with sin(x)>=0.5 or cos(x)>=0.5\")\n",
        "%timeit run_test(N, functions)    # does run_test several times and computes the average time"
      ],
      "execution_count": 0,
      "outputs": [
        {
          "output_type": "stream",
          "text": [
            "There are 5832 integers between 0 and 10000 with sin(x)>=0.5 or cos(x)>=0.5\n",
            "100 loops, best of 3: 3.01 ms per loop\n"
          ],
          "name": "stdout"
        }
      ]
    },
    {
      "cell_type": "markdown",
      "metadata": {
        "id": "lXOKTkyt4NUX",
        "colab_type": "text"
      },
      "source": [
        "# Question 2 (Homework)\n",
        "Let $f(n)$= proportion of integers in $\\{1, 2, \\dots, n\\}$ that are divisible by at least one of 3, 7, 13?  Plot $f(n)$ for $1 \\leq n \\leq 10000$.  Explain why the graphs looks like this.\n",
        "\n",
        "\n",
        "\n"
      ]
    },
    {
      "cell_type": "markdown",
      "metadata": {
        "id": "lq3Qh3bW4NUY",
        "colab_type": "text"
      },
      "source": [
        "If a/b is an integer, we say\n",
        "- a is divisible by b\n",
        "- b divides a\n",
        "\n",
        "In Python, a % b returns the remainder of a / b.  So, a is divisible by b iff a % b == 0."
      ]
    },
    {
      "cell_type": "code",
      "metadata": {
        "id": "gUhNzWwb4NUY",
        "colab_type": "code",
        "outputId": "2bac29bb-1c9a-4505-eb43-69823015efdd",
        "colab": {
          "base_uri": "https://localhost:8080/",
          "height": 51
        }
      },
      "source": [
        "def divides(a, b):\n",
        "    remainder = a % b\n",
        "    does_it_divide = (remainder == 0)\n",
        "    print(f\"Is {a} divisible by {b}?  {does_it_divide}: {a} / {b} has remainder {remainder}.\")\n",
        "\n",
        "divides(7, 3)\n",
        "divides(143, 11)"
      ],
      "execution_count": 0,
      "outputs": [
        {
          "output_type": "stream",
          "text": [
            "Is 7 divisible by 3?  False: 7 / 3 has remainder 1.\n",
            "Is 143 divisible by 11?  True: 143 / 11 has remainder 0.\n"
          ],
          "name": "stdout"
        }
      ]
    },
    {
      "cell_type": "code",
      "metadata": {
        "id": "VID0z3dCjHuo",
        "colab_type": "code",
        "outputId": "e8ce7985-7d29-4a5d-fd7b-f02e6b5a8335",
        "colab": {
          "base_uri": "https://localhost:8080/",
          "height": 269
        }
      },
      "source": [
        "import matplotlib.pyplot as plt\n",
        "X = range(100)\n",
        "Y = [x**2 for x in X]\n",
        "plt.plot(X,Y)\n",
        "plt.show()"
      ],
      "execution_count": 0,
      "outputs": [
        {
          "output_type": "display_data",
          "data": {
            "image/png": "[encoded data removed]",
            "text/plain": [
              "<Figure size 432x288 with 1 Axes>"
            ]
          },
          "metadata": {
            "tags": []
          }
        }
      ]
    }
  ]
}